{
 "cells": [
  {
   "cell_type": "markdown",
   "id": "0d5035b5",
   "metadata": {},
   "source": [
    "# Listas\n",
    "\n",
    "## Aulas 6.1 a 6.5 "
   ]
  },
  {
   "cell_type": "markdown",
   "id": "0bdece85",
   "metadata": {},
   "source": [
    "### Q1. \n",
    "\n",
    "Usando a função embutida ```map``` e criando uma função ```lambda```, transforme uma lista com os raios de múltiplas circunferências em uma nova lista com as respectivas áreas. O cálculo de cada área é dado por: ```pi*(raio**2)```\n",
    "- Use a constante pi da biblioteca math \n",
    "- Arredonde o resultado para 2 casas decimais\n"
   ]
  },
  {
   "cell_type": "code",
   "execution_count": 5,
   "id": "0a258eba",
   "metadata": {},
   "outputs": [
    {
     "name": "stdout",
     "output_type": "stream",
     "text": [
      "Raios: [1.5, 0.8, 2.3, 5.0]\n",
      "Áreas: [7.07, 2.01, 16.62, 78.54]\n"
     ]
    }
   ],
   "source": [
    "import math\n",
    "\n",
    "def main():\n",
    "    raios = [1.5, 0.8, 2.3, 5.0] \n",
    "\n",
    "    \n",
    "    areas = list(map(lambda r: round(math.pi * (r**2), 2), raios))\n",
    "\n",
    "    print(\"Raios:\", raios)\n",
    "    print(\"Áreas:\", areas)\n",
    "\n",
    "\n",
    "if __name__ == \"__main__\":\n",
    "    main()\n",
    "\n",
    "\n"
   ]
  },
  {
   "cell_type": "markdown",
   "id": "649a5082",
   "metadata": {},
   "source": [
    "### Q2. \n",
    "\n",
    "Crie uma função customizada e aplique a função embutida ```filter``` para operar em uma lista de listas contendo os lados de múltiplos triângulos. Construa uma nova lista contendo apenas os triângulos equiláteros, ou seja, com os três lados iguais.\n"
   ]
  },
  {
   "cell_type": "code",
   "execution_count": 17,
   "id": "47cb0573",
   "metadata": {},
   "outputs": [
    {
     "name": "stdout",
     "output_type": "stream",
     "text": [
      "Todos os triângulos: [[2, 2, 2], [3, 4, 5], [3, 2, 2], [4, 4, 4]]\n",
      "Triângulos equiláteros: [[2, 2, 2], [4, 4, 4]]\n"
     ]
    }
   ],
   "source": [
    "def testa_equilatero(lados):\n",
    "    \"\"\"Retorna True se os três lados forem iguais\"\"\"\n",
    "    return len(set(lados)) == 1\n",
    "\n",
    "\n",
    "def main():\n",
    "    triangulos = [\n",
    "         [2,2,2],\n",
    "        [3,4,5],\n",
    "        [3,2,2],\n",
    "        [4,4,4]\n",
    "    ]\n",
    "\n",
    "    equilateros = list(filter(testa_equilatero, triangulos))\n",
    "\n",
    "    print(\"Todos os triângulos:\", triangulos)\n",
    "    print(\"Triângulos equiláteros:\", equilateros)\n",
    "\n",
    "\n",
    "if __name__ == \"__main__\":\n",
    "    main()\n",
    "\n",
    "\n"
   ]
  },
  {
   "cell_type": "markdown",
   "id": "bb62d219",
   "metadata": {},
   "source": [
    "### Q3. \n",
    "Crie uma função chamada ```ordena_por_comprimento``` que aceite uma lista de strings e a ordene com base no comprimento das strings, do menor para o maior. Utilize a função ```sorte``` e uma expressão ```lambda```."
   ]
  },
  {
   "cell_type": "code",
   "execution_count": 18,
   "id": "add41556",
   "metadata": {},
   "outputs": [
    {
     "name": "stdout",
     "output_type": "stream",
     "text": [
      "Original: ['Joao', 'Maria', 'Jose', 'Gabriela', 'Sol', 'Luna', 'Bento', 'Enzo', 'Fernanda']\n",
      "Ordenada por comprimento: ['Sol', 'Joao', 'Jose', 'Luna', 'Enzo', 'Maria', 'Bento', 'Gabriela', 'Fernanda']\n"
     ]
    }
   ],
   "source": [
    "def ordena_por_comprimento(lista):\n",
    "    \n",
    "    return sorted(lista, key=lambda s: len(s))\n",
    "\n",
    "\n",
    "def main():\n",
    "    nomes = [\"Joao\", \"Maria\", \"Jose\", \"Gabriela\", \"Sol\", \"Luna\", \"Bento\", \"Enzo\", \"Fernanda\"]\n",
    "\n",
    "\n",
    "    ordenadas = ordena_por_comprimento(nomes)\n",
    "\n",
    "    print(\"Original:\", nomes)\n",
    "    print(\"Ordenada por comprimento:\", ordenadas)\n",
    "\n",
    "\n",
    "if __name__ == \"__main__\":\n",
    "    main()\n",
    "\n",
    "\n",
    "\n",
    "\n"
   ]
  },
  {
   "cell_type": "markdown",
   "id": "8710b1a7",
   "metadata": {},
   "source": [
    "### Q4.\n",
    "\n",
    "Crie uma lista de listas (uma matriz de 2 dimensões) de tamanho $n \\times n$, com $n$ dado pelo usuário. Cada elemento da matriz deve ser o produto dos índices da linha pela coluna.\n",
    "\n",
    "Exemplo:\n",
    "```\n",
    "Digite n: 4\n",
    "Matriz:\n",
    "[[0, 0, 0, 0],\n",
    " [0, 1, 2, 3],\n",
    " [0, 2, 4, 6],\n",
    " [0, 3, 6, 9]]\n",
    "```"
   ]
  },
  {
   "cell_type": "code",
   "execution_count": 19,
   "id": "0b7ee921",
   "metadata": {},
   "outputs": [
    {
     "name": "stdout",
     "output_type": "stream",
     "text": [
      "Matriz:\n",
      "[0, 0, 0, 0, 0]\n",
      "[0, 1, 2, 3, 4]\n",
      "[0, 2, 4, 6, 8]\n",
      "[0, 3, 6, 9, 12]\n",
      "[0, 4, 8, 12, 16]\n"
     ]
    }
   ],
   "source": [
    "def main():\n",
    "    n = int(input(\"Digite n: \"))\n",
    "\n",
    "    # matriz n x n onde cada elemento é i * j\n",
    "    matriz = [[i * j for j in range(n)] for i in range(n)]\n",
    "\n",
    "    print(\"Matriz:\")\n",
    "    for linha in matriz:\n",
    "        print(linha)\n",
    "\n",
    "\n",
    "if __name__ == \"__main__\":\n",
    "    main()\n"
   ]
  },
  {
   "cell_type": "markdown",
   "id": "f41781df",
   "metadata": {},
   "source": [
    "### Q5.\n",
    "\n",
    "Dada uma lista de números inteiros, implemente uma função em Python chamada ```pares_unicos``` que encontre e retorne todos os pares únicos de elementos na lista cuja soma seja igual a um determinado valor. Considere que a ordem dos pares não é relevante."
   ]
  },
  {
   "cell_type": "code",
   "execution_count": 22,
   "id": "7a76f765",
   "metadata": {},
   "outputs": [
    {
     "name": "stdout",
     "output_type": "stream",
     "text": [
      "Lista: [3, 4, 5, 6, 7]\n",
      "Pares únicos cuja soma é 7: [(3, 4)]\n"
     ]
    }
   ],
   "source": [
    "\n",
    "def pares_unicos(numeros, soma_objetivo):\n",
    "    vistos = set()\n",
    "    pares = set()\n",
    "\n",
    "    for num in numeros:\n",
    "        complemento = soma_objetivo - num\n",
    "        if complemento in vistos:\n",
    "            pares.add(tuple(sorted((num, complemento))))\n",
    "        vistos.add(num)\n",
    "\n",
    "    return list(pares)\n",
    "\n",
    "\n",
    "def main():\n",
    "    numeros =[3, 4, 5, 6, 7] \n",
    "    soma = 7\n",
    "\n",
    "    resultado = pares_unicos(numeros, soma)\n",
    "\n",
    "    print(\"Lista:\", numeros)\n",
    "    print(f\"Pares únicos cuja soma é {soma}: {resultado}\")\n",
    "\n",
    "\n",
    "if __name__ == \"__main__\":\n",
    "    main()\n",
    "\n",
    "\n"
   ]
  },
  {
   "cell_type": "markdown",
   "id": "87e44893",
   "metadata": {},
   "source": [
    "### Q5.\n",
    "\n",
    "Escreva um programa para encontrar a diferença entre duas listas, incluindo elementos duplicados.\n",
    "\n",
    "Ex:\n",
    "```\n",
    "Listas originais: \n",
    "[1, 1, 2, 3, 3, 4, 4, 5, 6, 7]\n",
    "[1, 1, 2, 4, 5, 6]\n",
    "Diferença entre as listas:\n",
    "[3, 3, 4, 7]\n",
    "```"
   ]
  },
  {
   "cell_type": "code",
   "execution_count": 23,
   "id": "7edc027c",
   "metadata": {},
   "outputs": [
    {
     "name": "stdout",
     "output_type": "stream",
     "text": [
      "Listas originais:\n",
      "[1, 1, 2, 3, 3, 4, 4, 5, 6, 7]\n",
      "[1, 1, 2, 4, 5, 6]\n",
      "Diferença entre as listas:\n",
      "[3, 3, 4, 7]\n"
     ]
    }
   ],
   "source": [
    "from collections import Counter\n",
    "\n",
    "def diferenca_listas(lista1, lista2):\n",
    "    # Conta quantas vezes cada elemento aparece em cada lista\n",
    "    c1, c2 = Counter(lista1), Counter(lista2)\n",
    "    # Subtração de contadores mantém as multiplicidades restantes\n",
    "    diff = c1 - c2\n",
    "    # Transforma de volta em lista\n",
    "    return list(diff.elements())\n",
    "\n",
    "\n",
    "def main():\n",
    "    l1 = [1, 1, 2, 3, 3, 4, 4, 5, 6, 7]\n",
    "    l2 = [1, 1, 2, 4, 5, 6]\n",
    "\n",
    "    print(\"Listas originais:\")\n",
    "    print(l1)\n",
    "    print(l2)\n",
    "\n",
    "    resultado = diferenca_listas(l1, l2)\n",
    "    print(\"Diferença entre as listas:\")\n",
    "    print(resultado)\n",
    "\n",
    "\n",
    "if __name__ == \"__main__\":\n",
    "    main()\n"
   ]
  },
  {
   "cell_type": "markdown",
   "id": "f4c4236d",
   "metadata": {},
   "source": [
    "### Q6.\n",
    "\n",
    "Dada uma lista aleatória, escreva um programa que separa os valores em listas menores de acordo com o tamanho solicitado. Caso não seja possível repartir igualmente a lista original, a última sublista deve conter os elementos remanescentes, como indicado no exemplo a seguir.\n",
    "\n",
    "Note que seu programa deve continuar executando em um laço infinito até que o usuário informe o tamanho 0 na entrada solicitada.\n",
    "\n",
    "```\n",
    "Lista original:\n",
    "[12, 45, 23, 67, 78, 90, 45, 32, 100, 76, 38, 62, 73, 29, 83]\n",
    "\n",
    "Tamanho para divisão: 3\n",
    "Subslistas:\n",
    "[[12, 45, 23], [67, 78, 90], [45, 32, 100], [76, 38, 62], [73, 29, 83]]\n",
    "\n",
    "Tamanho para divisão: 4\n",
    "Subslistas: [[12, 45, 23, 67], [78, 90, 45, 32], [100, 76, 38, 62], [73, 29, 83]]\n",
    "\n",
    "Tamanho para divisão: 0\n",
    "```"
   ]
  },
  {
   "cell_type": "code",
   "execution_count": 24,
   "id": "792563de",
   "metadata": {},
   "outputs": [
    {
     "name": "stdout",
     "output_type": "stream",
     "text": [
      "Lista original:\n",
      "[12, 45, 23, 67, 78, 90, 45, 32, 100, 76, 38, 62, 73, 29, 83]\n",
      "Sublistas:\n",
      "[[12, 45, 23, 67], [78, 90, 45, 32], [100, 76, 38, 62], [73, 29, 83]]\n",
      "Sublistas:\n",
      "[[12, 45, 23, 67, 78], [90, 45, 32, 100, 76], [38, 62, 73, 29, 83]]\n"
     ]
    }
   ],
   "source": [
    "import random\n",
    "lista = [random.randint(1,100) for i in range(20)]\n",
    "\n",
    "def dividir_lista(lista, tamanho):\n",
    "    \"\"\"Divide a lista em sublistas de tamanho 'tamanho'. A última pode ser menor.\"\"\"\n",
    "    return [lista[i:i+tamanho] for i in range(0, len(lista), tamanho)]\n",
    "\n",
    "\n",
    "def main():\n",
    "    lista_original = [12, 45, 23, 67, 78, 90, 45, 32, 100, 76, 38, 62, 73, 29, 83]\n",
    "    print(\"Lista original:\")\n",
    "    print(lista_original)\n",
    "\n",
    "    while True:\n",
    "        try:\n",
    "            tamanho = int(input(\"Tamanho para divisão: \"))\n",
    "            if tamanho == 0:\n",
    "                break\n",
    "            if tamanho < 0:\n",
    "                print(\"Digite um valor positivo ou 0 para sair.\")\n",
    "                continue\n",
    "\n",
    "            sublistas = dividir_lista(lista_original, tamanho)\n",
    "            print(\"Sublistas:\")\n",
    "            print(sublistas)\n",
    "        except ValueError:\n",
    "            print(\"Digite um número inteiro válido.\")\n",
    "\n",
    "if __name__ == \"__main__\":\n",
    "    main()\n"
   ]
  },
  {
   "cell_type": "markdown",
   "id": "c65be32f",
   "metadata": {},
   "source": [
    "### Q7.\n",
    "\n",
    "Você está desenvolvendo um programa para determinar o vencedor de um jogo da velha. Escreva uma função ```avalia_tabuleiro()``` que recebe uma lista representando o estado atual do tabuleiro e determina se há um vencedor. \n",
    "\n",
    "A lista terá 3 sublistas, cada uma representando uma linha do tabuleiro. Cada elemento das sublistas pode ser 'X', 'O' ou vazio (' ').\n",
    "\n",
    "O programa deve imprimir o vencedor ('X', 'O'), se houver um, ou \"Empate\" se não houver vencedor. Um vencedor é determinado se houver três 'X' ou três 'O' em linha (horizontal, vertical ou diagonal).\n",
    "\n",
    "Exemplo:\n",
    "```python\n",
    "tabuleiro = [\n",
    "    ['X', 'O', 'X'],\n",
    "    [' ', 'X', 'O'],\n",
    "    ['O', ' ', 'O']\n",
    "]\n",
    "```\n",
    "O resultado seria \"Empate\", pois não há um vencedor no exemplo fornecido. \n",
    "\n",
    "Exemplo 2:\n",
    "```python\n",
    "tabuleiro = [\n",
    "    ['O', 'X', 'O'],\n",
    "    ['X', 'O', 'X'],\n",
    "    ['X', ' ', 'O']\n",
    "]\n",
    "```\n",
    "O resultado seria \"O\", pois 'O' venceu na diagonal central."
   ]
  },
  {
   "cell_type": "code",
   "execution_count": 25,
   "id": "720ca24d",
   "metadata": {},
   "outputs": [
    {
     "name": "stdout",
     "output_type": "stream",
     "text": [
      "Resultado tabuleiro 1: X\n",
      "Resultado tabuleiro 2: X\n",
      "Resultado tabuleiro 3: Empate\n",
      "Resultado tabuleiro 4: O\n",
      "Resultado tabuleiro 5: Empate\n"
     ]
    }
   ],
   "source": [
    "def avalia_tabuleiro(tabuleiro):\n",
    "    \"\"\"\n",
    "    Avalia o tabuleiro de jogo da velha.\n",
    "    Retorna 'X' ou 'O' se houver vencedor, ou \"Empate\" caso contrário.\n",
    "    \"\"\"\n",
    "    # Verifica linhas\n",
    "    for linha in tabuleiro:\n",
    "        if linha[0] != ' ' and linha[0] == linha[1] == linha[2]:\n",
    "            return linha[0]\n",
    "\n",
    "    # Verifica colunas\n",
    "    for i in range(3):\n",
    "        if tabuleiro[0][i] != ' ' and tabuleiro[0][i] == tabuleiro[1][i] == tabuleiro[2][i]:\n",
    "            return tabuleiro[0][i]\n",
    "\n",
    "    # Verifica diagonais\n",
    "    if tabuleiro[0][0] != ' ' and tabuleiro[0][0] == tabuleiro[1][1] == tabuleiro[2][2]:\n",
    "        return tabuleiro[0][0]\n",
    "    if tabuleiro[0][2] != ' ' and tabuleiro[0][2] == tabuleiro[1][1] == tabuleiro[2][0]:\n",
    "        return tabuleiro[0][2]\n",
    "\n",
    "    return \"Empate\"\n",
    "\n",
    "\n",
    "def main():\n",
    "    tabuleiro1 = [\n",
    "        ['X', 'O', 'X'],\n",
    "        [' ', 'X', 'O'],\n",
    "        ['O', ' ', 'X']\n",
    "    ]\n",
    "\n",
    "    tabuleiro2 = [\n",
    "        ['X', 'O', 'O'],\n",
    "        ['X', 'X', 'O'],\n",
    "        ['X', 'O', 'X']\n",
    "    ]\n",
    "\n",
    "    tabuleiro3 = [\n",
    "        [' ', ' ', ' '],\n",
    "        ['X', ' ', 'O'],\n",
    "        ['O', 'X', 'X']\n",
    "    ]\n",
    "\n",
    "    tabuleiro4 = [\n",
    "        ['O', 'O', 'O'],\n",
    "        ['X', ' ', 'X'],\n",
    "        ['O', 'X', 'X']\n",
    "    ]\n",
    "\n",
    "    tabuleiro5 = [\n",
    "        ['X', 'X', 'O'],\n",
    "        ['X', ' ', 'O'],\n",
    "        ['O', 'O', 'X']\n",
    "    ]\n",
    "\n",
    "    tabuleiros = [tabuleiro1, tabuleiro2, tabuleiro3, tabuleiro4, tabuleiro5]\n",
    "\n",
    "    for i, tab in enumerate(tabuleiros, start=1):\n",
    "        resultado = avalia_tabuleiro(tab)\n",
    "        print(f\"Resultado tabuleiro {i}: {resultado}\")\n",
    "\n",
    "\n",
    "if __name__ == \"__main__\":\n",
    "    main()\n"
   ]
  }
 ],
 "metadata": {
  "kernelspec": {
   "display_name": "Python 3",
   "language": "python",
   "name": "python3"
  },
  "language_info": {
   "codemirror_mode": {
    "name": "ipython",
    "version": 3
   },
   "file_extension": ".py",
   "mimetype": "text/x-python",
   "name": "python",
   "nbconvert_exporter": "python",
   "pygments_lexer": "ipython3",
   "version": "3.12.2"
  }
 },
 "nbformat": 4,
 "nbformat_minor": 5
}
