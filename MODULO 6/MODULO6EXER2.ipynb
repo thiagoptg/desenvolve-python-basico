{
  "metadata": {
    "kernelspec": {
      "display_name": "Python (Pyodide)",
      "language": "python",
      "name": "python"
    },
    "language_info": {
      "codemirror_mode": {
        "name": "python",
        "version": 3
      },
      "file_extension": ".py",
      "mimetype": "text/x-python",
      "name": "python",
      "nbconvert_exporter": "python",
      "pygments_lexer": "ipython3",
      "version": "3.8"
    }
  },
  "nbformat_minor": 5,
  "nbformat": 4,
  "cells": [
    {
      "id": "8d5d4f12-a83b-4c7a-83f4-c9aa7e75a39b",
      "cell_type": "markdown",
      "source": "QUESTÃO 1\nEscreva um script em Python que solicita do usuário uma quantidade indefinida de números inteiros (com pelo menos 4 valores), os armazena em uma lista e, usando fatiamento de listas, imprima:\n\nA lista original\n\nOs 3 primeiros elementos\n\nOs 2 últimos elementos\n\nA lista invertida (do fim para o começo)\n\nOs elementos de índice par (0, 2, 4 … )\n\nOs elementos de índice ímpar (1, 3, 5, … )",
      "metadata": {}
    },
    {
      "id": "643f271e-e7d9-4126-bbe9-568793473288",
      "cell_type": "code",
      "source": "# Ler números do usuário até ele digitar \"fim\"\nprint(\"Digite números inteiros (digite 'fim' para encerrar).\")\nnumeros = []\n\nwhile True:\n    entrada = input(\"Digite um número (ou 'fim' para parar): \")\n    if entrada.lower() == \"fim\":\n        break\n    try:\n        numeros.append(int(entrada))\n    except ValueError:\n        print(\"Por favor, digite apenas números inteiros ou 'fim'.\")\n\n# Verificar se há pelo menos 4 elementos\nif len(numeros) < 4:\n    print(\"\\n⚠️ É necessário digitar pelo menos 4 valores.\")\nelse:\n    print(\"\\nLista original:\", numeros)\n    print(\"3 primeiros elementos:\", numeros[:3])\n    print(\"2 últimos elementos:\", numeros[-2:])\n    print(\"Lista invertida:\", numeros[::-1])\n    print(\"Elementos de índice par:\", numeros[::2])\n    print(\"Elementos de índice ímpar:\", numeros[1::2])\n",
      "metadata": {
        "trusted": true
      },
      "outputs": [
        {
          "name": "stdout",
          "output_type": "stream",
          "text": "Digite números inteiros (digite 'fim' para encerrar).\n"
        },
        {
          "output_type": "stream",
          "name": "stdin",
          "text": "Digite um número (ou 'fim' para parar):  1\nDigite um número (ou 'fim' para parar):  2\nDigite um número (ou 'fim' para parar):  3\nDigite um número (ou 'fim' para parar):  4\nDigite um número (ou 'fim' para parar):  FIM\n"
        },
        {
          "name": "stdout",
          "output_type": "stream",
          "text": "\nLista original: [1, 2, 3, 4]\n3 primeiros elementos: [1, 2, 3]\n2 últimos elementos: [3, 4]\nLista invertida: [4, 3, 2, 1]\nElementos de índice par: [1, 3]\nElementos de índice ímpar: [2, 4]\n"
        }
      ],
      "execution_count": 3
    },
    {
      "id": "be22591f-b6d0-4bff-9cfd-8cc126b929a0",
      "cell_type": "markdown",
      "source": "QUESTÃO 2\nDada uma lista de endereços web (URLs) que sempre começam com \"www.\" e sempre terminam com \".com\", use o conceito de fatiamento de listas para criar uma lista dominios com o nome principal de todos os domínios, conforme exemplo a seguir. \n\nURLs: [\"www.google.com\", \"www.gmail.com\", \"www.github.com\", \"www.reddit.com\", \"www.yahoo.com\"]\n\ndominios:  [\"google\", \"gmail\", \"github\", \"reddit\", \"yahoo\"] ",
      "metadata": {}
    },
    {
      "id": "d06d1819-c2d4-442d-a1f7-85e60461ae14",
      "cell_type": "code",
      "source": "# Lista de URLs\nurls = [\"www.google.com\", \"www.gmail.com\", \"www.github.com\", \"www.reddit.com\", \"www.yahoo.com\"]\n\n# Criar lista de domínios com fatiamento\ndominios = [url[4:-4] for url in urls]\n\nprint(\"URLs:\", urls)\nprint(\"Domínios:\", dominios)\n",
      "metadata": {
        "trusted": true
      },
      "outputs": [
        {
          "name": "stdout",
          "output_type": "stream",
          "text": "URLs: ['www.google.com', 'www.gmail.com', 'www.github.com', 'www.reddit.com', 'www.yahoo.com']\nDomínios: ['google', 'gmail', 'github', 'reddit', 'yahoo']\n"
        }
      ],
      "execution_count": 4
    },
    {
      "id": "84dfa5d6-a198-4653-985e-49058ee7da65",
      "cell_type": "markdown",
      "source": "QUESTÃO 3\nCrie uma lista com 20 elementos, entre -10 e 10, gerados aleatoriamente. Em seguida encontre o intervalo que possui a maior quantidade de números negativos e delete ele da lista com o operador del. Você deve imprimir a lista antes e depois da deleção.\n\nOriginal: [9, 2, -1, 4, -2, -3, 5, 6, -7, -4, -1, 6, 8, -3, -6]\n\nEditada:  [9, 2, -1, 4, -2, -3, 5, 6, 6, 8, -3, -6]",
      "metadata": {}
    },
    {
      "id": "e5e99e33-d10a-471b-a6ed-9400d90dc2b4",
      "cell_type": "code",
      "source": "import random\n\n# Gerar a lista com 20 elementos aleatórios entre -10 e 10\nlista = [random.randint(-10, 10) for _ in range(20)]\n\nprint(\"Original:\", lista)\n\n# Encontrar o intervalo com maior quantidade de negativos consecutivos\nmaior_inicio = maior_fim = 0\ninicio = 0\n\nwhile inicio < len(lista):\n    if lista[inicio] < 0:\n        fim = inicio\n        while fim < len(lista) and lista[fim] < 0:\n            fim += 1\n        # Verifica se esse intervalo é o maior até agora\n        if fim - inicio > maior_fim - maior_inicio:\n            maior_inicio, maior_fim = inicio, fim\n        inicio = fim\n    else:\n        inicio += 1\n\n# Deletar o intervalo encontrado\nif maior_fim > maior_inicio:\n    del lista[maior_inicio:maior_fim]\n\nprint(\"Editada:\", lista)\n",
      "metadata": {
        "trusted": true
      },
      "outputs": [
        {
          "name": "stdout",
          "output_type": "stream",
          "text": "Original: [7, 9, -9, 10, -3, 5, -10, 10, 9, 1, 9, 1, 8, -5, -5, 8, -5, 7, -6, -3]\nEditada: [7, 9, -9, 10, -3, 5, -10, 10, 9, 1, 9, 1, 8, 8, -5, 7, -6, -3]\n"
        }
      ],
      "execution_count": 1
    },
    {
      "id": "1babb79b-a257-445b-bf90-71748bacf319",
      "cell_type": "code",
      "source": "",
      "metadata": {
        "trusted": true
      },
      "outputs": [],
      "execution_count": null
    },
    {
      "id": "fd78fb7a-d07b-4ff8-8c15-8e535626c800",
      "cell_type": "code",
      "source": "",
      "metadata": {
        "trusted": true
      },
      "outputs": [],
      "execution_count": null
    }
  ]
}