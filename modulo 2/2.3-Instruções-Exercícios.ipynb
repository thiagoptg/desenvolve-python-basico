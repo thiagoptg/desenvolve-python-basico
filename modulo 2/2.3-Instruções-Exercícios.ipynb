{
  "cells": [
    {
      "cell_type": "markdown",
      "metadata": {
        "id": "1pCTdOHonv5f"
      },
      "source": [
        "# Módulo 2\n",
        "\n",
        "## 2.3 Instruções e Expressões\n",
        "\n",
        "### Q1\n",
        "\n",
        "Faça um programa que armazene o valor de 20 reais de salário por hora de um trabalhador, e o número de 40 horas trabalhadas na semana. Com essas informações, calcule e imprima:\n",
        "- Salário semanal bruto\n",
        "- Valor descontado por semana INSS (10% do bruto)\n",
        "- Valor descontado por semana pelo sindicato (5% do bruto)\n",
        "- Salário semanal líquido (Bruto - Descontos)"
      ]
    },
    {
      "cell_type": "code",
      "execution_count": null,
      "metadata": {
        "id": "hVbX0I97nj6M"
      },
      "outputs": [
        {
          "name": "stdout",
          "output_type": "stream",
          "text": [
            "Salário semanal bruto: 800.0\n",
            "Desconto INSS (10%) 80.0\n",
            "Desconto Sindicato (5%) 40.0\n",
            "Salário semanal líquido 680.0\n"
          ]
        }
      ],
      "source": [
        "\n",
        "valor_hora = 20.0\n",
        "horas_semana = 40\n",
        "\n",
        "salario_bruto = valor_hora * horas_semana\n",
        "\n",
        "\n",
        "desconto_inss = salario_bruto * 0.10    \n",
        "desconto_sindicato = salario_bruto * 0.05  \n",
        "\n",
        "\n",
        "salario_liquido = salario_bruto - desconto_inss - desconto_sindicato\n",
        "\n",
        "\n",
        "print(\"Salário semanal bruto:\",salario_bruto)\n",
        "print(\"Desconto INSS (10%)\", desconto_inss)\n",
        "print(\"Desconto Sindicato (5%)\",desconto_sindicato)\n",
        "print(f\"Salário semanal líquido\",salario_liquido)\n"
      ]
    },
    {
      "cell_type": "markdown",
      "metadata": {
        "id": "pIxKX9J2oGZ1"
      },
      "source": [
        "### Q2\n",
        "\n",
        "Altere o programa anterior para a partir dos valores de horas trabalhadas por semana e salário por hora, calcular **em somente duas instruções**:\n",
        "- Salário semanal bruto\n",
        "- Salário semanal líquido com todos os descontos. Para a segunda instrução, realize todos os cálculos aritméticos em uma expressão composta.\n"
      ]
    },
    {
      "cell_type": "code",
      "execution_count": 27,
      "metadata": {
        "id": "pAHw9Xf9oGoi"
      },
      "outputs": [
        {
          "name": "stdout",
          "output_type": "stream",
          "text": [
            "Salário semanal bruto: 800.0\n",
            "Salário semanal líquido: 680.0\n"
          ]
        }
      ],
      "source": [
        "# entrada\n",
        "valor_hora = 20.0\n",
        "horas_semana = 40\n",
        "\n",
        "# 1ª instrução: calcula o salário bruto\n",
        "salario_bruto = valor_hora * horas_semana\n",
        "\n",
        "# 2ª instrução: calcula salário líquido (com INSS 10% e sindicato 5%)\n",
        "salario_liquido = salario_bruto - (salario_bruto * 0.10) - (salario_bruto * 0.05)\n",
        "\n",
        "# saída\n",
        "print(\"Salário semanal bruto:\",salario_bruto)\n",
        "print(\"Salário semanal líquido:\", salario_liquido)\n"
      ]
    },
    {
      "cell_type": "markdown",
      "metadata": {
        "id": "m8tlHRuWpBOB"
      },
      "source": [
        "### Q3\n",
        "\n",
        "Você está desenvolvendo um software de conversão de moeda e precisa calcular o valor equivalente em yuan chinês a partir de uma quantia em real. A taxa de câmbio é de 0.69 BRL (real) para 1 CNY (yuan). Escreva um programa que define em uma variável uma quantia em reais (BRL) e calcula o valor equivalente em yuan (CNY). Imprima o resultado."
      ]
    },
    {
      "cell_type": "code",
      "execution_count": 32,
      "metadata": {
        "id": "2bPw7uF6oeL9"
      },
      "outputs": [
        {
          "name": "stdout",
          "output_type": "stream",
          "text": [
            "100.0  BRL equivalem a  144.92753623188406 yuan\n"
          ]
        }
      ],
      "source": [
        "\n",
        "valor_brl = 100.0 \n",
        "\n",
        "# taxa de câmbio: 0,69 BRL = 1 CNY  → 1 CNY = 0,69 BRL\n",
        "# logo, para converter reais → yuan, divide-se por 0,69\n",
        "valor_cny = valor_brl / 0.69\n",
        "\n",
        "print(valor_brl,\" BRL equivalem a \",valor_cny, \"yuan\")\n"
      ]
    },
    {
      "cell_type": "markdown",
      "metadata": {
        "id": "-Na3ltDCp74A"
      },
      "source": [
        "### Q4\n",
        "\n",
        "Você é um treinador de corrida e deseja calcular a velocidade média que um atleta precisa manter para completar a Maratona Internacional de São Silvestre, que tem uma distância total de 42.195 km. A fórmula para calcular a velocidade média ($v\\_media$) é dada por $v\\_media = \\frac{distancia}{tempo}$ . Escreva um programa em Python para calcular a velocidade média necessária para completar a maratona em 3 horas.\n",
        "\n",
        "**Calcule e imprima o resultado em metros/segundo**, ou seja, converta a distância de quilômetros para metros ($metro = \\frac{km}{1000}$) e a velocidade de horas para segundos $(segundo = \\frac{hora}{3600})$."
      ]
    },
    {
      "cell_type": "code",
      "execution_count": 34,
      "metadata": {
        "id": "Bn6l8kcSrE4L"
      },
      "outputs": [
        {
          "name": "stdout",
          "output_type": "stream",
          "text": [
            "Velocidade média necessária: 3.9069444444444446 m/s\n"
          ]
        }
      ],
      "source": [
        "# dados\n",
        "dist_km = 42.195        \n",
        "tempo_horas = 3       \n",
        "\n",
        "# conversões\n",
        "dist_metros = dist_km * 1000        # km -> m\n",
        "tempo_segundos = tempo_horas * 3600 # h -> s\n",
        "\n",
        "# cálculo da velocidade média\n",
        "v_media = dist_metros / tempo_segundos\n",
        "\n",
        "print(\"Velocidade média necessária:\", v_media , \"m/s\")\n"
      ]
    }
  ],
  "metadata": {
    "colab": {
      "provenance": []
    },
    "kernelspec": {
      "display_name": "Python 3",
      "name": "python3"
    },
    "language_info": {
      "codemirror_mode": {
        "name": "ipython",
        "version": 3
      },
      "file_extension": ".py",
      "mimetype": "text/x-python",
      "name": "python",
      "nbconvert_exporter": "python",
      "pygments_lexer": "ipython3",
      "version": "3.12.2"
    }
  },
  "nbformat": 4,
  "nbformat_minor": 0
}
