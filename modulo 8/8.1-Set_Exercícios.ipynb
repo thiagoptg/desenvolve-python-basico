{
 "cells": [
  {
   "cell_type": "markdown",
   "id": "0d5035b5",
   "metadata": {},
   "source": [
    "# Set\n",
    "\n",
    "## Aula 8.1"
   ]
  },
  {
   "cell_type": "markdown",
   "id": "0bdece85",
   "metadata": {},
   "source": [
    "### Q1. \n",
    "\n",
    "Dada uma string qualquer, use seu conhecimento de sets para apresentar os caracteres únicos que aparecem na string, ordenados alfabeticamente e sem duplicatas. Preste atenção em duplicatas de maiúsculas e minúsculas.\n"
   ]
  },
  {
   "cell_type": "code",
   "execution_count": 7,
   "id": "0a258eba",
   "metadata": {},
   "outputs": [
    {
     "name": "stdout",
     "output_type": "stream",
     "text": [
      "[' ', 'O', 'R', 'a', 'b', 'd', 'e', 'n', 'o', 'p', 'r', 's', 't', 'u']\n"
     ]
    }
   ],
   "source": [
    "\n",
    "\n",
    "def caracteres_unicos(frase):\n",
    "    # Converte a string em set para eliminar duplicatas\n",
    "    unicos = set(frase)\n",
    "    # Ordena alfabeticamente\n",
    "    return sorted(unicos)\n",
    "\n",
    "\n",
    "frase = \"O rato roeu a roupa do Robson\"\n",
    "resultado = caracteres_unicos(frase)\n",
    "print(resultado)\n"
   ]
  },
  {
   "cell_type": "markdown",
   "id": "0856bd56",
   "metadata": {},
   "source": [
    "### Q2\n",
    "\n",
    "Desenvolva uma função em Python chamada ```tem_elementos_comuns()``` que recebe duas listas como parâmetros e retorna True se houver algum elemento comum entre as duas listas, e False caso contrário. Utilize sets para resolver essa tarefa."
   ]
  },
  {
   "cell_type": "code",
   "execution_count": null,
   "id": "f7ab6736",
   "metadata": {},
   "outputs": [],
   "source": [
    "def tem_elementos_comuns(lista1, lista2):\n",
    "    \"\"\"\n",
    "    Retorna True se as listas tiverem algum elemento em comum, caso contrário False.\n",
    "    \"\"\"\n",
    "    return bool(set(lista1) & set(lista2))\n",
    "\n",
    "\n",
    "\n"
   ]
  },
  {
   "cell_type": "code",
   "execution_count": 11,
   "id": "1022744a",
   "metadata": {},
   "outputs": [
    {
     "name": "stdout",
     "output_type": "stream",
     "text": [
      "True\n",
      "True\n"
     ]
    }
   ],
   "source": [
    "\n",
    "\n",
    "lista1 = [1, 2, 3, 4]\n",
    "lista2 = [3, 4, 5, 6, 7]\n",
    "resultado = tem_elementos_comuns(lista1, lista2)\n",
    "print(tem_elementos_comuns(lista1, lista2))  # True (o elemento 3 é comum)\n",
    "print(tem_elementos_comuns(lista1, lista2))  # False (nenhum elemento em comum)\n"
   ]
  },
  {
   "cell_type": "markdown",
   "id": "649a5082",
   "metadata": {},
   "source": [
    "### Q3. \n",
    "\n",
    "Você vai coletar de diferentes turmas de alunos seus interesses em atividades extra curriculares dentre futebol, vôlei, rugby, música, teatro, ações comunitárias. Informe o conjunto de atividades comuns a todas a turmas. Pode preencher o iterável turmas com valores arbitrários. \n"
   ]
  },
  {
   "cell_type": "code",
   "execution_count": 12,
   "id": "880a9927",
   "metadata": {},
   "outputs": [
    {
     "name": "stdout",
     "output_type": "stream",
     "text": [
      "Atividades comuns a todas as turmas: {'rugby'}\n"
     ]
    }
   ],
   "source": [
    "\n",
    "\n",
    "\n",
    "def interesses_comuns(turmas):\n",
    "    \"\"\"\n",
    "    Recebe uma lista de conjuntos representando interesses de cada turma\n",
    "    e retorna os interesses comuns a todas as turmas.\n",
    "    \"\"\"\n",
    "    if not turmas:\n",
    "        return set()  # nenhuma turma fornecida\n",
    "    # Interseção de todos os conjuntos\n",
    "    return set.intersection(*turmas)\n",
    "\n",
    "\n",
    "turmas = [\n",
    "     {'ações comunitárias', 'futebol', 'música', 'rugby'},\n",
    "     {'ações comunitárias', 'música', 'rugby', 'teatro'},\n",
    "     {'música', 'rugby', 'teatro', 'vôlei'},\n",
    "     {'música', 'vôlei', 'rugby'},\n",
    "     {'ações comunitárias', 'futebol', 'rugby', 'teatro', 'vôlei'},\n",
    "     {'ações comunitárias', 'futebol', 'rugby'},\n",
    "     {'ações comunitárias', 'rugby', 'teatro', 'vôlei'},\n",
    "     {'ações comunitárias', 'rugby', 'teatro', 'vôlei'},\n",
    "     {'ações comunitárias', 'rugby', 'vôlei'}\n",
    "]\n",
    "\n",
    "comuns = interesses_comuns(turmas)\n",
    "print(\"Atividades comuns a todas as turmas:\", comuns)\n",
    "\n",
    "\n"
   ]
  },
  {
   "cell_type": "markdown",
   "id": "021e2b1e",
   "metadata": {},
   "source": [
    "### Q4. \n",
    "Considere duas listas que são duplicatas uma da outra, exceto por um elemento, exemplo:\n",
    "```\n",
    "A = [1, 4, 5, 7, 9]\n",
    "B = [4, 5, 7, 9]\n",
    "```\n",
    "\n",
    "Encontre e apresente o elemento diferente, informando também qual das listas está desfalcada. Para o exemplo acima, a saída esperada é\n",
    "```\n",
    "O elemento 1 está faltando na segunda lista\n",
    "```"
   ]
  },
  {
   "cell_type": "code",
   "execution_count": null,
   "id": "608761a4",
   "metadata": {},
   "outputs": [],
   "source": [
    "def elemento_diferente(A, B):\n",
    "    setA = set(A)\n",
    "    setB = set(B)\n",
    "\n",
    "    if setA - setB:\n",
    "        elemento = (setA - setB).pop()\n",
    "        print(f\"O elemento {elemento} está faltando na segunda lista\")\n",
    "    elif setB - setA:\n",
    "        elemento = (setB - setA).pop()\n",
    "        print(f\"O elemento {elemento} está faltando na primeira lista\")\n",
    "    else:\n",
    "        print(\"As listas são idênticas\")\n",
    "\n",
    "# Exemplo de uso\n",
    "A = [1, 4, 5, 7, 9]\n",
    "B = [4, 5, 7, 9]\n",
    "\n",
    "elemento_diferente(A, B)\n"
   ]
  },
  {
   "cell_type": "markdown",
   "id": "ddf180c1",
   "metadata": {},
   "source": [
    "### Q5.\n",
    "\n",
    "Panagramas são frases que contém todas as letras do alfabeto pelo menos uma vez. Crie uma função ```checa_panagrama``` que recebe uma string e retorna ```True``` caso seja um panagrama ou ```False```caso contrário. Use seu conhecimento de sets para solucionar essa questão.\n",
    "\n",
    "Ex: \n",
    "```\n",
    "Entrada: \"The quick brown fox jumps over the lazy dog\" \n",
    "Saída: É um panagrama\n",
    "```\n",
    "\n",
    "```\n",
    "Entrada: \"Python é uma linguagem de programação\" \n",
    "Saída: Não é um panagrama\n",
    "```"
   ]
  },
  {
   "cell_type": "code",
   "execution_count": null,
   "id": "4e8b0390",
   "metadata": {},
   "outputs": [],
   "source": [
    "import string\n",
    "\n",
    "def checa_panagrama(frase):\n",
    "    \"\"\"\n",
    "    Retorna True se a frase for um panagrama, False caso contrário.\n",
    "    \"\"\"\n",
    "    # Converte para minúsculas e pega apenas letras\n",
    "    letras = set(c.lower() for c in frase if c.isalpha())\n",
    "    \n",
    "    # Conjunto de todas as letras do alfabeto\n",
    "    alfabeto = set(string.ascii_lowercase)\n",
    "    \n",
    "    # Verifica se todas as letras do alfabeto estão presentes\n",
    "    return letras >= alfabeto  # True se letras contém todas as do alfabeto\n",
    "\n",
    "\n",
    "# Exemplos de uso\n",
    "frase1 = \"The quick brown fox jumps over the lazy dog\"\n",
    "frase2 = \"Python é uma linguagem de programação\"\n",
    "\n",
    "print(f\"'{frase1}' ->\", \"É um panagrama\" if checa_panagrama(frase1) else \"Não é um panagrama\")\n",
    "print(f\"'{frase2}' ->\", \"É um panagrama\" if checa_panagrama(frase2) else \"Não é um panagrama\")\n"
   ]
  }
 ],
 "metadata": {
  "kernelspec": {
   "display_name": "Python 3",
   "language": "python",
   "name": "python3"
  },
  "language_info": {
   "codemirror_mode": {
    "name": "ipython",
    "version": 3
   },
   "file_extension": ".py",
   "mimetype": "text/x-python",
   "name": "python",
   "nbconvert_exporter": "python",
   "pygments_lexer": "ipython3",
   "version": "3.12.2"
  }
 },
 "nbformat": 4,
 "nbformat_minor": 5
}
