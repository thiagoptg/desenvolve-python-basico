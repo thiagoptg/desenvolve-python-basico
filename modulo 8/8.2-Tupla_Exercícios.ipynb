{
 "cells": [
  {
   "cell_type": "markdown",
   "id": "0d5035b5",
   "metadata": {},
   "source": [
    "# Tupla\n",
    "\n",
    "## Aula 8.2"
   ]
  },
  {
   "cell_type": "markdown",
   "id": "0bdece85",
   "metadata": {},
   "source": [
    "### Q1. \n",
    "\n",
    "Escreva uma função ```calcula_area_perimetro``` que recebe **apenas um parâmetro** ```dimensoes``` e calcula a área e o perímetro a partir das dimensões dadas. \n",
    "- ```dimensoes``` é uma tupla (largura, comprimento) com as dimensões de um terreno retangular\n",
    "- Sua função deve calcular e retornar as seguintes operações\n",
    "   - $area = largura \\times comprimento$\n",
    "   - $perimetro = 2\\times(largura + comprimento)$\n"
   ]
  },
  {
   "cell_type": "code",
   "execution_count": null,
   "id": "0a258eba",
   "metadata": {},
   "outputs": [
    {
     "name": "stdout",
     "output_type": "stream",
     "text": [
      "Área: 200, Perímetro: 60\n"
     ]
    }
   ],
   "source": [
    "def calcula_area_perimetro(dimensoes):\n",
    "    \"\"\"\n",
    "    Calcula a área e o perímetro de um terreno retangular.\n",
    "    \n",
    "    Parâmetro:\n",
    "    dimensoes: tupla (largura, comprimento)\n",
    "    \n",
    "    Retorna:\n",
    "    area, perimetro\n",
    "    \"\"\"\n",
    "    largura, comprimento = dimensoes\n",
    "    area = largura * comprimento\n",
    "    perimetro = 2 * (largura + comprimento)\n",
    "    return area, perimetro\n",
    "\n",
    "\n",
    "\n"
   ]
  },
  {
   "cell_type": "code",
   "execution_count": 3,
   "id": "e1866c04",
   "metadata": {},
   "outputs": [
    {
     "name": "stdout",
     "output_type": "stream",
     "text": [
      "(35, 24) <class 'tuple'>\n"
     ]
    }
   ],
   "source": [
    "largura = 5\n",
    "comprimento = 7\n",
    "\n",
    "retorno = calcula_area_perimetro((largura, comprimento))\n",
    "print(retorno, type(retorno))\n"
   ]
  },
  {
   "cell_type": "markdown",
   "id": "cbdcb986",
   "metadata": {},
   "source": [
    "### Q2.\n",
    "\n",
    "Dada uma string, imprima todas as vogais que aparecem na string, bem como todos os índices onde elas ocorrem. Para isso, use a função ```enumerate```.\n"
   ]
  },
  {
   "cell_type": "code",
   "execution_count": 4,
   "id": "1f6b1f2d",
   "metadata": {},
   "outputs": [
    {
     "name": "stdout",
     "output_type": "stream",
     "text": [
      "Vogais encontradas: ['e', 'u', 'a', 'o', 'o', 'a', 'e', 'o', 'a', 'e', 'e', 'e', 'u', 'u', 'a', 'o', 'e', 'o', 'e']\n",
      "Índices: [1, 2, 4, 6, 10, 12, 14, 18, 20, 22, 25, 28, 29, 31, 35, 37, 40, 44, 46]\n"
     ]
    }
   ],
   "source": [
    "frase = \"O rato roeu a roupa da Alice\"\n",
    "\n",
    "def vogais_e_indices(frase):\n",
    "    vogais = \"aeiouAEIOU\"\n",
    "    indices = []\n",
    "\n",
    "    for i, c in enumerate(frase):\n",
    "        if c in vogais:\n",
    "            indices.append(i)\n",
    "\n",
    "    print(f\"Vogais encontradas: {[frase[i] for i in indices]}\")\n",
    "    print(f\"Índices: {indices}\")\n",
    "\n",
    "\n",
    "# Exemplo de uso\n",
    "texto = \"Meu amor mora em Roma e me deu um ramo de flores\"\n",
    "vogais_e_indices(texto)\n"
   ]
  },
  {
   "cell_type": "markdown",
   "id": "8d46663f",
   "metadata": {},
   "source": [
    "### Q3.\n",
    "\n",
    "Escreva uma função em Python chamada ```ordenar_tuplas``` que recebe uma lista de tuplas, cada uma contendo o nome de um aluno e sua respectiva média, e retorna uma nova lista ordenada em ordem decrescente de médias."
   ]
  },
  {
   "cell_type": "code",
   "execution_count": 7,
   "id": "469f2e6e",
   "metadata": {},
   "outputs": [
    {
     "name": "stdout",
     "output_type": "stream",
     "text": [
      "[('Carla', 9.2), ('Alice', 8.5), ('Bruno', 7.0), ('Daniel', 6.8)]\n"
     ]
    }
   ],
   "source": [
    "def ordenar_tuplas(lista_alunos):\n",
    "    \"\"\"\n",
    "    Recebe uma lista de tuplas (nome, média) e retorna a lista ordenada\n",
    "    em ordem decrescente de médias.\n",
    "    \"\"\"\n",
    "    return sorted(lista_alunos, key=lambda x: x[1], reverse=True)\n",
    "\n",
    "\n",
    "# Exemplo de uso\n",
    "alunos_notas = [(\"Alice\", 8.5), (\"Bruno\", 7.0), (\"Carla\", 9.2), (\"Daniel\", 6.8)]\n",
    "ordenados = ordenar_tuplas(alunos)\n",
    "print(ordenados)\n"
   ]
  },
  {
   "cell_type": "code",
   "execution_count": 8,
   "id": "1972c62b",
   "metadata": {},
   "outputs": [
    {
     "name": "stdout",
     "output_type": "stream",
     "text": [
      "[('Charlie', 9.0), ('David', 8.8), ('Alice', 8.5), ('Bob', 7.2)]\n"
     ]
    }
   ],
   "source": [
    "# Exemplo de uso:\n",
    "alunos_notas = [('Alice', 8.5), ('Bob', 7.2), ('Charlie', 9.0), ('David', 8.8)]\n",
    "resultado = ordenar_tuplas(alunos_notas)\n",
    "print(resultado)\n",
    "# Saída esperada: [('Charlie', 9.0), ('David', 8.8), ('Alice', 8.5), ('Bob', 7.2)]"
   ]
  },
  {
   "cell_type": "markdown",
   "id": "e0268fae",
   "metadata": {},
   "source": [
    "### Q4.\n",
    "\n",
    "Escreva uma função em Python chamada ```comprimir_tuplas``` que recebe uma lista de tuplas, cada uma contendo uma palavra e um número, e retorna uma nova lista de tuplas onde palavras idênticas são agrupadas e seus números são somados.\n",
    "\n"
   ]
  },
  {
   "cell_type": "code",
   "execution_count": 9,
   "id": "30a221f3",
   "metadata": {},
   "outputs": [],
   "source": [
    "def comprimir_tuplas(lista):\n",
    "    \"\"\"\n",
    "    Recebe uma lista de tuplas (palavra, número) e retorna uma lista\n",
    "    onde palavras iguais são agrupadas e os números somados.\n",
    "    \"\"\"\n",
    "    d = {}\n",
    "    for palavra, numero in lista:\n",
    "        if palavra in d:\n",
    "            d[palavra] += numero\n",
    "        else:\n",
    "            d[palavra] = numero\n",
    "    \n",
    "    # Converte de volta para lista de tuplas\n",
    "    return list(d.items())\n",
    "\n",
    "\n"
   ]
  },
  {
   "cell_type": "code",
   "execution_count": 10,
   "id": "80972bac",
   "metadata": {},
   "outputs": [
    {
     "name": "stdout",
     "output_type": "stream",
     "text": [
      "[('maçã', 8), ('banana', 5), ('laranja', 1)]\n"
     ]
    }
   ],
   "source": [
    "# Exemplo de uso:\n",
    "tuplas_originais = [('maçã', 3), ('banana', 2), ('maçã', 5), ('laranja', 1), ('banana', 3)]\n",
    "resultado = comprimir_tuplas(tuplas_originais)\n",
    "print(resultado)\n",
    "# Saída esperada: [('maçã', 8), ('banana', 5), ('laranja', 1)]"
   ]
  },
  {
   "cell_type": "markdown",
   "id": "649a5082",
   "metadata": {},
   "source": [
    "### Q5. \n",
    "\n",
    "- Escreva um script que peça o nome e a idade de todos na fila de uma balada. Crie uma lista de tuplas com os pares ```(nome, idade)``` de cada um. \n",
    "- Em seguida crie e imprima duas tuplas apenas com os nomes, uma com os menores de idade que não poderão entrar, e uma com os maiores de idade (```idade >= 18```). \n",
    "\n"
   ]
  },
  {
   "cell_type": "code",
   "execution_count": 11,
   "id": "47cb0573",
   "metadata": {},
   "outputs": [
    {
     "name": "stdout",
     "output_type": "stream",
     "text": [
      "Menores de idade (não podem entrar): ()\n",
      "Maiores de idade: ('thiago',)\n"
     ]
    }
   ],
   "source": [
    "fila = []\n",
    "\n",
    "while True:\n",
    "    nome = input(\"Digite o nome (ou 'fim' para encerrar): \")\n",
    "    if nome.lower() == \"fim\":\n",
    "        break\n",
    "    idade = int(input(f\"Digite a idade de {nome}: \"))\n",
    "    fila.append((nome, idade))\n",
    "\n",
    "# Separar menores e maiores de idade\n",
    "menores = tuple(nome for nome, idade in fila if idade < 18)\n",
    "maiores = tuple(nome for nome, idade in fila if idade >= 18)\n",
    "\n",
    "print(\"Menores de idade (não podem entrar):\", menores)\n",
    "print(\"Maiores de idade:\", maiores)\n"
   ]
  }
 ],
 "metadata": {
  "kernelspec": {
   "display_name": "Python 3",
   "language": "python",
   "name": "python3"
  },
  "language_info": {
   "codemirror_mode": {
    "name": "ipython",
    "version": 3
   },
   "file_extension": ".py",
   "mimetype": "text/x-python",
   "name": "python",
   "nbconvert_exporter": "python",
   "pygments_lexer": "ipython3",
   "version": "3.12.2"
  }
 },
 "nbformat": 4,
 "nbformat_minor": 5
}
