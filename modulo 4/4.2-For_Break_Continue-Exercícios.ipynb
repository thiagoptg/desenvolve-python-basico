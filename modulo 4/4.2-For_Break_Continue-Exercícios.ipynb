{
 "cells": [
  {
   "cell_type": "markdown",
   "id": "29e89030",
   "metadata": {},
   "source": [
    "# Módulo 4 - Repetições\n",
    "\n",
    "## Aulas 4.2 - Comando ```for``` e 4.3 Break e Continue"
   ]
  },
  {
   "cell_type": "markdown",
   "id": "a45b42df",
   "metadata": {},
   "source": [
    "### Q1.\n",
    "\n",
    "Crie um programa em Python que utilize o comando for para imprimir os números de 10 a 1, em ordem decrescente."
   ]
  },
  {
   "cell_type": "code",
   "execution_count": 4,
   "id": "55a75b3d",
   "metadata": {},
   "outputs": [
    {
     "name": "stdout",
     "output_type": "stream",
     "text": [
      "10\n",
      "9\n",
      "8\n",
      "7\n",
      "6\n",
      "5\n",
      "4\n",
      "3\n",
      "2\n",
      "1\n"
     ]
    }
   ],
   "source": [
    "\n",
    "for numero in range(10, 0, -1):\n",
    "    print(numero)\n"
   ]
  },
  {
   "cell_type": "markdown",
   "id": "94b47c36",
   "metadata": {},
   "source": [
    "### Q2.\n",
    "\n",
    "Dado um número inteiro positivo informado pelo usuário, crie um programa em Python que utilize o comando for para calcular e exibir a soma dos números de 1 até o número informado. Ou seja, $1 + 2 + 3 + ... + n$\n",
    "\n",
    "Exemplo de interação:\n",
    "```\n",
    "Digite um número: 5\n",
    "A soma dos números de 1 a 5 é 15\n",
    "```\n"
   ]
  },
  {
   "cell_type": "code",
   "execution_count": 5,
   "id": "45b71596",
   "metadata": {},
   "outputs": [
    {
     "ename": "ValueError",
     "evalue": "invalid literal for int() with base 10: ''",
     "output_type": "error",
     "traceback": [
      "\u001b[31m---------------------------------------------------------------------------\u001b[39m",
      "\u001b[31mValueError\u001b[39m                                Traceback (most recent call last)",
      "\u001b[36mCell\u001b[39m\u001b[36m \u001b[39m\u001b[32mIn[5]\u001b[39m\u001b[32m, line 3\u001b[39m\n\u001b[32m      1\u001b[39m \u001b[38;5;66;03m# lê um número inteiro positivo\u001b[39;00m\n\u001b[32m----> \u001b[39m\u001b[32m3\u001b[39m n = \u001b[38;5;28;43mint\u001b[39;49m\u001b[43m(\u001b[49m\u001b[38;5;28;43minput\u001b[39;49m\u001b[43m(\u001b[49m\u001b[33;43m\"\u001b[39;49m\u001b[33;43mDigite um número: \u001b[39;49m\u001b[33;43m\"\u001b[39;49m\u001b[43m)\u001b[49m\u001b[43m)\u001b[49m\n\u001b[32m      5\u001b[39m \u001b[38;5;66;03m# inicializa o acumulador da soma\u001b[39;00m\n\u001b[32m      6\u001b[39m soma = \u001b[32m0\u001b[39m\n",
      "\u001b[31mValueError\u001b[39m: invalid literal for int() with base 10: ''"
     ]
    }
   ],
   "source": [
    "# lê um número inteiro positivo\n",
    "\n",
    "n = int(input(\"Digite um número: \"))\n",
    "\n",
    "# inicializa o acumulador da soma\n",
    "soma = 0\n",
    "\n",
    "# percorre de 1 até n (inclusive)\n",
    "for i in range(1, n + 1):\n",
    "    soma += i\n",
    "\n",
    "# exibe o resultado\n",
    "print(f\"A soma dos números de 1 a {n} é {soma}\")\n"
   ]
  },
  {
   "cell_type": "markdown",
   "id": "0411d170",
   "metadata": {},
   "source": [
    "### Q3.\n",
    "\n",
    "Escreva um programa que lê 10 valores inteiros positivos do usuário e ao final imprime a média dos valores digitados com duas casas decimais.\n",
    "\n",
    "```\n",
    "Digite 10 números positivos:\n",
    "3\n",
    "2\n",
    "12\n",
    "14\n",
    "20\n",
    "42\n",
    "19\n",
    "0\n",
    "8\n",
    "1\n",
    "A média dos valores digitados é 12.10\n",
    "```"
   ]
  },
  {
   "cell_type": "code",
   "execution_count": null,
   "id": "3f72f358",
   "metadata": {},
   "outputs": [],
   "source": [
    "print(\"Digite 10 números positivos:\")\n",
    "\n",
    "soma = 0  # acumulador da soma\n",
    "\n",
    "# lê 10 números e acumula\n",
    "for i in range(10):\n",
    "    numero = int(input())\n",
    "    soma += numero\n",
    "\n",
    "# calcula a média\n",
    "media = soma / 10\n",
    "\n",
    "# exibe com duas casas decimais\n",
    "print(f\"A média dos valores digitados é {media:.2f}\")\n"
   ]
  },
  {
   "cell_type": "markdown",
   "id": "d62e27ff",
   "metadata": {},
   "source": [
    "### Q4.\n",
    "\n",
    "Você vai criar um sistema que registra os resultados dos jogos do Atlético MG ao longo de um campeonato. Seu sistema vai receber os resultados de todos os jogos do Galo, e deve calcular a pontuação do time sabendo que vitórias valem 3 pontos, empates 1 ponto e derrotas 0 pontos.\n",
    "\n",
    "Entrada: <br>\n",
    "A primeira linha de entrada é um inteiro N com a quantidade jogos do galo. Para cada jogo você deve ler 2 inteiros, o primeiro com a quantidade de gols do galo e o segundo com a quantidade de gols do time oponente. \n",
    "\n",
    "Saída: <br>\n",
    "Apresente a soma de vitórias, empates e derrotas do galo, junto com o cálculo da pontuação total.\n",
    "\n",
    "Ex:\n",
    "```\n",
    "Entrada:\n",
    "4\n",
    "2\n",
    "0\n",
    "1\n",
    "1\n",
    "0\n",
    "3\n",
    "1\n",
    "0\n",
    "\n",
    "Saída:\n",
    "Vitórias: 2\n",
    "Empates: 1\n",
    "Derrotas: 1\n",
    "Pontuação: 7\n",
    "\n",
    "```\n",
    "\n",
    "\n"
   ]
  },
  {
   "cell_type": "code",
   "execution_count": null,
   "id": "d3fdfc2a",
   "metadata": {},
   "outputs": [
    {
     "name": "stdout",
     "output_type": "stream",
     "text": [
      "Vitórias: 0\n",
      "Empates: 0\n",
      "Derrotas: 0\n",
      "Pontuação: 0\n"
     ]
    }
   ],
   "source": [
    "# lê a quantidade de jogos\n",
    "n = int(input())\n",
    "\n",
    "# contadores\n",
    "vitorias = 0\n",
    "empates = 0\n",
    "derrotas = 0\n",
    "\n",
    "# percorre cada jogo\n",
    "for i in range(n):\n",
    "    gols_galo = int(input())       # gols do Atlético MG\n",
    "    gols_adversario = int(input()) # gols do oponente\n",
    "\n",
    "    if gols_galo > gols_adversario:\n",
    "        vitorias += 1\n",
    "    elif gols_galo == gols_adversario:\n",
    "        empates += 1\n",
    "    else:\n",
    "        derrotas += 1\n",
    "\n",
    "# calcula a pontuação\n",
    "pontuacao = vitorias * 3 + empates * 1\n",
    "\n",
    "# imprime os resultados\n",
    "print(f\"Vitórias: {vitorias}\")\n",
    "print(f\"Empates: {empates}\")\n",
    "print(f\"Derrotas: {derrotas}\")\n",
    "print(f\"Pontuação: {pontuacao}\")\n"
   ]
  },
  {
   "cell_type": "markdown",
   "id": "fc98604d",
   "metadata": {},
   "source": [
    "### Q5.\n",
    "\n",
    "Faça um programa que lê dois inteiros N e M, e imprime na tela um campo de batalha naval. O tabuleiro deve possuir N linhas e M colunas. A primeira linha é composta por um espaço em branco e o cabeçalho das colunas, ou seja, valores de 1 a M. As N linhas seguintes iniciam com o cabeçalho da linha, ou seja, seu número, seguido de M caracteres \"/\" (barra) indicando uma possível posição jogável. \n",
    "\n",
    "```\n",
    "Entrada:\n",
    "5\n",
    "4\n",
    "\n",
    "Saída:\n",
    "  1 2 3 4 \n",
    "1 / / / / \n",
    "2 / / / / \n",
    "3 / / / / \n",
    "4 / / / / \n",
    "5 / / / / \n",
    "```\n",
    "\n",
    "Para esse exercício, precisamos lembrar que o comando print implicitamente adiciona uma quebra de linha ao final da impressão. Podemos interferir no final da impressão adicionando mais uma entrada ao print. No exemplo, finalizamos cada linha com um espaço em branco:\n",
    "```python\n",
    "print(\"Texto qualquer\", end = \" \")\n",
    "```"
   ]
  },
  {
   "cell_type": "code",
   "execution_count": null,
   "id": "a60ef197",
   "metadata": {},
   "outputs": [
    {
     "name": "stdout",
     "output_type": "stream",
     "text": [
      "  \n",
      "1 \n",
      "2 \n",
      "3 \n",
      "4 \n",
      "5 \n",
      "6 \n",
      "7 \n",
      "8 \n",
      "9 \n",
      "10 \n"
     ]
    }
   ],
   "source": [
    "# lê quantidade de linhas (N) e colunas (M)\n",
    "N = int(input())\n",
    "M = int(input())\n",
    "\n",
    "# imprime o cabeçalho das colunas\n",
    "print(\" \", end=\" \")\n",
    "for col in range(1, M + 1):\n",
    "    print(col, end=\" \")\n",
    "print()  # quebra de linha\n",
    "\n",
    "# imprime as linhas do tabuleiro\n",
    "for linha in range(1, N + 1):\n",
    "    print(linha, end=\" \")\n",
    "    for _ in range(M):\n",
    "        print(\"/\", end=\" \")\n",
    "    print()  # quebra de linha ao final de cada linha\n"
   ]
  },
  {
   "cell_type": "markdown",
   "id": "4654dc0b",
   "metadata": {},
   "source": [
    "---\n",
    "## Break e Continue"
   ]
  },
  {
   "cell_type": "markdown",
   "id": "24fe9d85",
   "metadata": {},
   "source": [
    "### Q6.\n",
    "\n",
    "Escreva um programa que lê uma quantidade indefinida de valores e informa o maior e o menor valor digitados. A leitura é encerrada quando o usuário digitar o valor 0 (zero).\n",
    "\n",
    "```\n",
    "Entrada:\n",
    "12\n",
    "-1\n",
    "29\n",
    "11\n",
    "-5\n",
    "0\n",
    "\n",
    "Saída:\n",
    "Maior: 29\n",
    "Menor: -5\n",
    "```"
   ]
  },
  {
   "cell_type": "code",
   "execution_count": null,
   "id": "ee1c466a",
   "metadata": {},
   "outputs": [
    {
     "ename": "ValueError",
     "evalue": "invalid literal for int() with base 10: ''",
     "output_type": "error",
     "traceback": [
      "\u001b[31m---------------------------------------------------------------------------\u001b[39m",
      "\u001b[31mValueError\u001b[39m                                Traceback (most recent call last)",
      "\u001b[36mCell\u001b[39m\u001b[36m \u001b[39m\u001b[32mIn[3]\u001b[39m\u001b[32m, line 13\u001b[39m\n\u001b[32m     11\u001b[39m \u001b[38;5;66;03m# continua lendo até que seja digitado 0\u001b[39;00m\n\u001b[32m     12\u001b[39m \u001b[38;5;28;01mwhile\u001b[39;00m \u001b[38;5;28;01mTrue\u001b[39;00m:\n\u001b[32m---> \u001b[39m\u001b[32m13\u001b[39m     valor = \u001b[38;5;28;43mint\u001b[39;49m\u001b[43m(\u001b[49m\u001b[38;5;28;43minput\u001b[39;49m\u001b[43m(\u001b[49m\u001b[43m)\u001b[49m\u001b[43m)\u001b[49m\n\u001b[32m     14\u001b[39m     \u001b[38;5;28;01mif\u001b[39;00m valor == \u001b[32m0\u001b[39m:\n\u001b[32m     15\u001b[39m         \u001b[38;5;28;01mbreak\u001b[39;00m\n",
      "\u001b[31mValueError\u001b[39m: invalid literal for int() with base 10: ''"
     ]
    }
   ],
   "source": [
    "# lê o primeiro valor\n",
    "valor = int(input())\n",
    "\n",
    "# se o primeiro valor for zero, não há números para comparar\n",
    "if valor == 0:\n",
    "    print(\"Nenhum valor informado.\")\n",
    "else:\n",
    "    maior = valor\n",
    "    menor = valor\n",
    "\n",
    "    # continua lendo até que seja digitado 0\n",
    "    while True:\n",
    "        valor = int(input())\n",
    "        if valor == 0:\n",
    "            break\n",
    "\n",
    "        if valor > maior:\n",
    "            maior = valor\n",
    "        if valor < menor:\n",
    "            menor = valor\n",
    "\n",
    "    print(f\"Maior: {maior}\")\n",
    "    print(f\"Menor: {menor}\")\n"
   ]
  },
  {
   "cell_type": "markdown",
   "id": "30d486f7",
   "metadata": {},
   "source": [
    "### Q7.\n",
    "\n",
    "Escreva um programa que lê uma quantidade indefinida de valores e informa o **produto** dos valores positivos digitados. A leitura é encerrada quando o usuário digitar o valor 0 (zero).\n",
    "\n",
    "```\n",
    "Entrada:\n",
    "2\n",
    "-1\n",
    "1\n",
    "3\n",
    "-5\n",
    "0\n",
    "\n",
    "Saída:\n",
    "Produto: 6\n",
    "```"
   ]
  },
  {
   "cell_type": "code",
   "execution_count": null,
   "id": "2f1ac324",
   "metadata": {},
   "outputs": [],
   "source": [
    "# acumulador do produto (identidade da multiplicação é 1)\n",
    "produto = 1\n",
    "\n",
    "while True:\n",
    "    valor = int(input())\n",
    "    if valor == 0:          # encerra a leitura\n",
    "        break\n",
    "    if valor > 0:           # só multiplica se for positivo\n",
    "        produto *= valor\n",
    "\n",
    "print(f\"Produto: {produto}\")\n"
   ]
  },
  {
   "cell_type": "markdown",
   "id": "e932f3cf",
   "metadata": {},
   "source": [
    "### Q8.\n",
    "\n",
    "Vamos fazer uma calculadora que aceita expressões aritméticas de qualquer tamanho até que o usuário digite a palavra \"Fim\". Sua calculadora executa apenas as operações \"+\", \"-\".\n",
    "\n",
    "```\n",
    "Entrada:\n",
    "5\n",
    "+\n",
    "8\n",
    "-\n",
    "3\n",
    "+\n",
    "2\n",
    "Fim\n",
    "\n",
    "Saída:\n",
    "12\n",
    "```"
   ]
  },
  {
   "cell_type": "code",
   "execution_count": null,
   "id": "e835d870",
   "metadata": {},
   "outputs": [],
   "source": [
    "# lê o primeiro número\n",
    "total = int(input())\n",
    "\n",
    "# operador inicial é soma (pois já temos o primeiro número)\n",
    "operador = \"+\"\n",
    "\n",
    "while True:\n",
    "    entrada = input().strip()\n",
    "    if entrada.lower() == \"fim\":   # finaliza a calculadora\n",
    "        break\n",
    "\n",
    "    # se a entrada for um operador, atualiza o operador atual\n",
    "    if entrada in [\"+\", \"-\"]:\n",
    "        operador = entrada\n",
    "    else:\n",
    "        # caso seja número, aplica o operador armazenado\n",
    "        numero = int(entrada)\n",
    "        if operador == \"+\":\n",
    "            total += numero\n",
    "        else:\n",
    "            total -= numero\n",
    "\n",
    "# exibe o resultado final\n",
    "print(total)\n"
   ]
  }
 ],
 "metadata": {
  "kernelspec": {
   "display_name": "Python 3",
   "language": "python",
   "name": "python3"
  },
  "language_info": {
   "codemirror_mode": {
    "name": "ipython",
    "version": 3
   },
   "file_extension": ".py",
   "mimetype": "text/x-python",
   "name": "python",
   "nbconvert_exporter": "python",
   "pygments_lexer": "ipython3",
   "version": "3.12.2"
  }
 },
 "nbformat": 4,
 "nbformat_minor": 5
}
